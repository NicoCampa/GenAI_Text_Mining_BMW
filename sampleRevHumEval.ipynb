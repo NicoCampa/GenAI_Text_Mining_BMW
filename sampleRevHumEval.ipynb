{
 "cells": [
  {
   "cell_type": "code",
   "execution_count": 4,
   "metadata": {},
   "outputs": [
    {
     "name": "stdout",
     "output_type": "stream",
     "text": [
      "Reading bmw_app_analysis/results/bmw_reviews_consolidated_20250504_155236.csv...\n",
      "Filtering reviews with at least 5 words...\n",
      "Reviews with 5+ words: 13312 out of 18350\n",
      "\n",
      "Reviews available after filtering by language and length:\n",
      "  German: 3839 reviews\n",
      "  Italian: 920 reviews\n",
      "  Spanish: 670 reviews\n",
      "  French: 1155 reviews\n",
      "Sampled 30 reviews from German\n",
      "Sampled 30 reviews from Italian\n",
      "Sampled 30 reviews from Spanish\n",
      "Sampled 30 reviews from French\n",
      "Saved sampled reviews to bmw_app_analysis/results/bmw_reviews_sampledHE.csv\n",
      "\n",
      "Final sample distribution:\n",
      "  German: 30 reviews\n",
      "  Italian: 30 reviews\n",
      "  Spanish: 30 reviews\n",
      "  French: 30 reviews\n",
      "\n",
      "Example reviews from each language:\n",
      "\n",
      "German example:\n",
      "  Original: Die App kann schon viel, aber warum lassen sich di...\n",
      "  English:  The app can already do a lot, but why can't the wi...\n",
      "\n",
      "Italian example:\n",
      "  Original: Dalla versione 2.11.0, con IDrive 6 e telefono And...\n",
      "  English:  Since version 2.11.0, with iDrive 6 and an Android...\n",
      "\n",
      "Spanish example:\n",
      "  Original: Aplicación penosa, en esta nueva actualización se ...\n",
      "  English:  Miserable app, with this new update they’ve even l...\n",
      "\n",
      "French example:\n",
      "  Original: Application très conviviale et informative ... C'e...\n",
      "  English:  Very user-friendly and informative application... ...\n"
     ]
    }
   ],
   "source": [
    "import pandas as pd\n",
    "import re\n",
    "\n",
    "def sample_reviews_by_language(input_file='bmw_app_analysis/results/bmw_reviews_consolidated_20250504_155236.csv', \n",
    "                              output_file='bmw_app_analysis/results/bmw_reviews_sampledHE.csv'):\n",
    "    \"\"\"\n",
    "    Sample 30 reviews EACH from German, Italian, Spanish and French languages\n",
    "    with at least 5 words from the BMW reviews dataset.\n",
    "    \n",
    "    Args:\n",
    "        input_file: Path to the input CSV file\n",
    "        output_file: Path to save the sampled reviews\n",
    "    \"\"\"\n",
    "    # Read the consolidated file\n",
    "    print(f\"Reading {input_file}...\")\n",
    "    df = pd.read_csv(input_file)\n",
    "    \n",
    "    # Verify columns exist\n",
    "    required_columns = ['reviewId', 'content', 'language', 'content_english']\n",
    "    missing_columns = [col for col in required_columns if col not in df.columns]\n",
    "    \n",
    "    if missing_columns:\n",
    "        print(f\"ERROR: Missing required columns: {missing_columns}\")\n",
    "        print(f\"Available columns: {df.columns.tolist()}\")\n",
    "        return None\n",
    "    \n",
    "    # Apply minimum word filter - INCREASED TO 5 WORDS\n",
    "    min_words = 5  # Changed from 3 to 5\n",
    "    print(f\"Filtering reviews with at least {min_words} words...\")\n",
    "    df['word_count'] = df['content'].apply(lambda x: len(re.findall(r'\\b\\w+\\b', str(x))) if isinstance(x, str) else 0)\n",
    "    df_filtered_by_length = df[df['word_count'] >= min_words].copy()\n",
    "    \n",
    "    print(f\"Reviews with {min_words}+ words: {len(df_filtered_by_length)} out of {len(df)}\")\n",
    "    \n",
    "    # Target languages - in desired order\n",
    "    target_languages = [\"German\", \"Italian\", \"Spanish\", \"French\"]\n",
    "    \n",
    "    # Apply language filter\n",
    "    df_filtered = df_filtered_by_length[df_filtered_by_length['language'].isin(target_languages)].copy()\n",
    "    \n",
    "    # Report on available reviews per language\n",
    "    print(\"\\nReviews available after filtering by language and length:\")\n",
    "    for lang in target_languages:\n",
    "        count = len(df_filtered[df_filtered['language'] == lang])\n",
    "        print(f\"  {lang}: {count} reviews\")\n",
    "    \n",
    "    # Sample 30 from each language group (or all available if less than 30)\n",
    "    sampled_reviews = []\n",
    "    target_per_language = 30  # 30 reviews per language\n",
    "    \n",
    "    for lang in target_languages:\n",
    "        lang_df = df_filtered[df_filtered['language'] == lang]\n",
    "        \n",
    "        if len(lang_df) == 0:\n",
    "            print(f\"No reviews found for {lang}\")\n",
    "            continue\n",
    "            \n",
    "        # Sample up to target_per_language reviews, or all if fewer available\n",
    "        sample_size = min(target_per_language, len(lang_df))\n",
    "        sampled = lang_df.sample(sample_size, random_state=42)\n",
    "        sampled_reviews.append(sampled)\n",
    "        print(f\"Sampled {len(sampled)} reviews from {lang}\")\n",
    "    \n",
    "    # Combine all samples\n",
    "    sampled_df = pd.concat(sampled_reviews, ignore_index=True)\n",
    "    \n",
    "    # Create language order mapping for sorting\n",
    "    lang_order = {lang: i for i, lang in enumerate(target_languages)}\n",
    "    \n",
    "    # Select only the required columns and rename content_english to english_content\n",
    "    output_df = sampled_df[['reviewId', 'content', 'language', 'content_english']].copy()\n",
    "    \n",
    "    # Clean up english_content: remove quotes\n",
    "    output_df['content_english'] = output_df['content_english'].astype(str).str.replace('\"', '')\n",
    "    \n",
    "    # Rename the column\n",
    "    output_df = output_df.rename(columns={'content_english': 'english_content'})\n",
    "    \n",
    "    # Sort by language in the specified order\n",
    "    output_df['lang_order'] = output_df['language'].map(lang_order)\n",
    "    output_df = output_df.sort_values('lang_order').drop('lang_order', axis=1).reset_index(drop=True)\n",
    "    \n",
    "    # Save to CSV\n",
    "    output_df.to_csv(output_file, index=False)\n",
    "    print(f\"Saved sampled reviews to {output_file}\")\n",
    "    \n",
    "    print(\"\\nFinal sample distribution:\")\n",
    "    for lang in target_languages:\n",
    "        count = len(output_df[output_df['language'] == lang])\n",
    "        print(f\"  {lang}: {count} reviews\")\n",
    "    \n",
    "    return output_df\n",
    "\n",
    "# Execute the function\n",
    "if __name__ == \"__main__\":\n",
    "    sampled_reviews = sample_reviews_by_language()\n",
    "    \n",
    "    # Display summary\n",
    "    if sampled_reviews is not None and not sampled_reviews.empty:\n",
    "        # Show a couple examples from each language\n",
    "        print(\"\\nExample reviews from each language:\")\n",
    "        for lang in [\"German\", \"Italian\", \"Spanish\", \"French\"]:\n",
    "            lang_samples = sampled_reviews[sampled_reviews['language'] == lang].head(1)\n",
    "            if not lang_samples.empty:\n",
    "                print(f\"\\n{lang} example:\")\n",
    "                for _, row in lang_samples.iterrows():\n",
    "                    print(f\"  Original: {row['content'][:50]}{'...' if len(row['content']) > 50 else ''}\")\n",
    "                    print(f\"  English:  {row['english_content'][:50]}{'...' if len(row['english_content']) > 50 else ''}\")"
   ]
  },
  {
   "cell_type": "code",
   "execution_count": null,
   "metadata": {},
   "outputs": [],
   "source": [
    "# bmw_topic_cards.py  –  v6  (2025‑05‑02)\n",
    "# ================================================================\n",
    "# • Stratified random sampling (mirrors topic sentiment mix)\n",
    "# • One paragraph summary  +  “‑ ” negative bullets  +  “+ ” positive bullets\n",
    "# • Prompts stored inside TopicSummary.prompts  (audit / debugging)\n",
    "# • No JSON parsing, so Ollama chatter can’t break the pipeline\n",
    "# ---------------------------------------------------------------\n",
    "\n",
    "from __future__ import annotations\n",
    "\n",
    "import html\n",
    "import logging\n",
    "import subprocess\n",
    "import textwrap\n",
    "from collections import Counter\n",
    "from concurrent.futures import ThreadPoolExecutor, as_completed\n",
    "from dataclasses import dataclass, field\n",
    "from typing import Callable, Dict, List, Optional\n",
    "\n",
    "import matplotlib as mpl\n",
    "import matplotlib.pyplot as plt\n",
    "import nltk\n",
    "import pandas as pd\n",
    "from IPython.display import HTML, display\n",
    "from nltk.corpus import stopwords\n",
    "from nltk.tokenize import word_tokenize\n",
    "from tqdm.auto import tqdm\n",
    "\n",
    "# -------------------------------------------------------------------\n",
    "#  CONFIGURATION\n",
    "# -------------------------------------------------------------------\n",
    "TOP_N_TOPICS        = 15          # how many topics to visualise\n",
    "PROMPT_SAMPLE_SIZE  = 300         # reviews fed to each LLM prompt\n",
    "N_KEYWORDS          = 8\n",
    "N_PHRASES           = 5\n",
    "MAX_BULLETS         = 7           # issues / positives\n",
    "BMW_BLUE            = \"#0066B1\"\n",
    "\n",
    "STAR_SVG = (\n",
    "    \"<svg width='14' height='14' viewBox='0 0 24 24' \"\n",
    "    \"xmlns='http://www.w3.org/2000/svg' style='vertical-align:-2px'>\"\n",
    "    \"<polygon fill='#FFD700' \"\n",
    "    \"points='12 2 15.09 8.26 22 9.27 17 14.14 \"\n",
    "    \"18.18 21.02 12 17.77 5.82 21.02 7 14.14 2 9.27 8.91 8.26'/></svg>\"\n",
    ")\n",
    "\n",
    "# -------------------------------------------------------------------\n",
    "#  NLTK – bootstrap stop‑words\n",
    "# -------------------------------------------------------------------\n",
    "for res in (\"stopwords\", \"punkt\"):\n",
    "    try:\n",
    "        nltk.data.find(f\"corpora/{res}\")\n",
    "    except LookupError:\n",
    "        nltk.download(res, quiet=True)\n",
    "\n",
    "STOPWORDS = set(stopwords.words(\"english\")) | {\n",
    "    \"bmw\", \"app\", \"car\", \"please\", \"would\", \"also\", \"get\", \"use\", \"using\"\n",
    "}\n",
    "\n",
    "# -------------------------------------------------------------------\n",
    "#  OLLAMA RUNNER  (temperature 0 for determinism)\n",
    "# -------------------------------------------------------------------\n",
    "def _subprocess_runner(prompt: str, model: str) -> str:\n",
    "    proc = subprocess.run(\n",
    "        [\"ollama\", \"run\", model, \"-t\", \"0\"],\n",
    "        input=prompt,\n",
    "        text=True,\n",
    "        capture_output=True,\n",
    "        check=False,\n",
    "    )\n",
    "    return proc.stdout\n",
    "\n",
    "# -------------------------------------------------------------------\n",
    "#  STRATIFIED SAMPLING  (mirror sentiment mix)\n",
    "# -------------------------------------------------------------------\n",
    "def _stratified_sample(df: pd.DataFrame, size: int, seed: int = 0) -> List[str]:\n",
    "    dist = df[\"sentiment\"].value_counts(normalize=True)\n",
    "    quota = {s: int(round(dist.get(s, 0) * size)) for s in (\"negative\", \"positive\", \"neutral\")}\n",
    "    diff = size - sum(quota.values())\n",
    "    if diff:\n",
    "        quota[max(dist, key=dist.get, default=\"negative\")] += diff\n",
    "\n",
    "    col = \"content_english\" if \"content_english\" in df.columns else \"content\"\n",
    "    texts: List[str] = []\n",
    "\n",
    "    for sentiment, n in quota.items():\n",
    "        if n <= 0:\n",
    "            continue\n",
    "        bucket = df[df[\"sentiment\"] == sentiment]\n",
    "        sample_n = min(n, len(bucket))\n",
    "        texts.extend(bucket.sample(sample_n, random_state=seed)[col].tolist())\n",
    "\n",
    "    # top‑up if any bucket ran short\n",
    "    if len(texts) < size:\n",
    "        short = size - len(texts)\n",
    "        remainder = df.drop(df.index[df[col].isin(texts)]).sample(short, random_state=seed)\n",
    "        texts.extend(remainder[col].tolist())\n",
    "\n",
    "    return texts\n",
    "\n",
    "# -------------------------------------------------------------------\n",
    "#  BULLET‑PARSER\n",
    "# -------------------------------------------------------------------\n",
    "def _parse_bullets(text: str, prefix: str) -> List[str]:\n",
    "    \"\"\"Return list of lines starting with the prefix (‘- ’ or ‘+ ’).\"\"\"\n",
    "    lines = [ln.strip() for ln in text.splitlines() if ln.strip()]\n",
    "    bullets = [ln[len(prefix):].strip() for ln in lines if ln.startswith(prefix)]\n",
    "    # fallback to comma‑sep if model ignored prefixes\n",
    "    if not bullets and \",\" in text:\n",
    "        bullets = [part.strip() for part in text.split(\",\") if part.strip()]\n",
    "    return bullets[:MAX_BULLETS]\n",
    "\n",
    "# -------------------------------------------------------------------\n",
    "#  DATACLASS\n",
    "# -------------------------------------------------------------------\n",
    "@dataclass\n",
    "class TopicSummary:\n",
    "    summary: str\n",
    "    issues: List[str]\n",
    "    positives: List[str]\n",
    "    avg_rating: float\n",
    "    review_count: int\n",
    "    sentiment_dist: Dict[str, float]\n",
    "    top_keywords: List[str]\n",
    "    top_phrases: List[str]\n",
    "    prompts: Dict[str, str] = field(default_factory=dict)\n",
    "\n",
    "    @property\n",
    "    def stars(self) -> str:\n",
    "        full, half = int(self.avg_rating), self.avg_rating - int(self.avg_rating) >= 0.5\n",
    "        return STAR_SVG * full + (STAR_SVG if half else \"\")\n",
    "\n",
    "# -------------------------------------------------------------------\n",
    "#  MAIN ENTRY\n",
    "# -------------------------------------------------------------------\n",
    "def create_topic_cards_from_classified(\n",
    "    df: pd.DataFrame,\n",
    "    *,\n",
    "    ollama_model_name: str = \"gemma3:12b\",\n",
    "    ollama_runner: Callable[[str, str], str] = _subprocess_runner,\n",
    ") -> Dict[str, TopicSummary]:\n",
    "    \"\"\"\n",
    "    Render topic cards & a rating chart; return dict[topic] -> TopicSummary.\n",
    "    Prompts are stored in `TopicSummary.prompts`.\n",
    "    \"\"\"\n",
    "    log = _setup_logger()\n",
    "\n",
    "    # -------- sanity checks -----------------------------------------\n",
    "    if {\"topics\", \"sentiment\"} - set(df.columns):\n",
    "        raise ValueError(\"DataFrame must include 'topics' & 'sentiment'.\")\n",
    "\n",
    "    text_col = \"content_english\" if \"content_english\" in df.columns else \"content\"\n",
    "\n",
    "    if \"score\" not in df.columns:\n",
    "        df[\"score\"] = (\n",
    "            df[\"sentiment\"]\n",
    "            .map({\"positive\": 4.5, \"neutral\": 3.0, \"negative\": 1.5})\n",
    "            .fillna(3.0)\n",
    "        )\n",
    "\n",
    "    # -------- pick top topics --------------------------------------\n",
    "    topics_freq = df[\"topics\"].str.get_dummies(sep=\",\").sum()\n",
    "    top_topics = (\n",
    "        topics_freq.sort_values(ascending=False).head(TOP_N_TOPICS).index\n",
    "    )\n",
    "\n",
    "    results: Dict[str, TopicSummary] = {}\n",
    "\n",
    "    for topic in tqdm(top_topics, desc=\"Topics\"):\n",
    "        sub = df[df[\"topics\"].str.contains(fr\"\\b{topic}\\b\", case=False, na=False)]\n",
    "        if sub.empty:\n",
    "            continue\n",
    "\n",
    "        avg = sub[\"score\"].mean()\n",
    "        mix = sub[\"sentiment\"].value_counts(normalize=True).to_dict()\n",
    "\n",
    "        tokens = word_tokenize(\" \".join(sub[text_col].fillna(\"\").str.lower()))\n",
    "        tokens = [t for t in tokens if t.isalpha() and t not in STOPWORDS and len(t) > 2]\n",
    "        keywords = [w for w, _ in Counter(tokens).most_common(N_KEYWORDS)]\n",
    "        bigrams = [f\"{a} {b}\" for a, b in zip(tokens, tokens[1:])]\n",
    "        phrases = [p for p, _ in Counter(bigrams).most_common(N_PHRASES)]\n",
    "\n",
    "        sample_n = min(PROMPT_SAMPLE_SIZE, len(sub))\n",
    "        sample_texts = _stratified_sample(sub, sample_n)\n",
    "        sample_blob = \"\\n\".join(f\"[{i}] {txt}\" for i, txt in enumerate(sample_texts))\n",
    "\n",
    "        ctx_block = (\n",
    "            f\"Average score {avg:.2f} (n={len(sub)}). \"\n",
    "            f\"Sentiment mix: neg {mix.get('negative',0):.0%}, \"\n",
    "            f\"pos {mix.get('positive',0):.0%}, \"\n",
    "            f\"neu {mix.get('neutral',0):.0%}.\\n\"\n",
    "            f\"Top keywords: {', '.join(keywords)}.\\n\"\n",
    "            f\"Top phrases: {', '.join(phrases)}.\"\n",
    "        )\n",
    "\n",
    "        prompts: Dict[str, str] = {}\n",
    "\n",
    "        def build(kind: str) -> str:\n",
    "            \"\"\"Return fully‑formed prompt & store it\"\"\"\n",
    "            header = (\n",
    "                \"You are an analytical assistant. Follow ALL rules:\\n\"\n",
    "                f\"• Focus **only** on the topic '{topic}'.\\n\"\n",
    "                \"• Ignore unrelated features.\\n\"\n",
    "                \"• Use English even if reviews were translated.\\n\"\n",
    "                \"• Be factual, concise (temperature 0).\\n\"\n",
    "            )\n",
    "            if kind == \"summary\":\n",
    "                body = (\n",
    "                    \"Write one concise paragraph (3‑5 sentences) that \"\n",
    "                    \"summarises what users say about this topic, covering \"\n",
    "                    \"both pain points and praise.\"\n",
    "                )\n",
    "            else:\n",
    "                label = \"negative issues\" if kind == \"issues\" else \"positive aspects\"\n",
    "                prefix = \"-\" if kind == \"issues\" else \"+\"\n",
    "                body = (\n",
    "                    f\"List up to {MAX_BULLETS} main {label}. \"\n",
    "                    f\"Each line MUST start with '{prefix} '. \"\n",
    "                    \"Use short noun phrases, no duplication, no periods.\"\n",
    "                )\n",
    "\n",
    "            prompt = (\n",
    "                f\"{header}\\n\\nCONTEXT:\\n{ctx_block}\\n\\nSAMPLES:\\n{sample_blob}\\n\\nTASK:\\n{body}\"\n",
    "            )\n",
    "            prompts[kind] = prompt\n",
    "            return prompt\n",
    "\n",
    "        # ----- call Ollama (three prompts in parallel) ----------------\n",
    "        with ThreadPoolExecutor(max_workers=3) as pool:\n",
    "            futures = {\n",
    "                pool.submit(ollama_runner, build(k), ollama_model_name): k\n",
    "                for k in (\"summary\", \"issues\", \"positives\")\n",
    "            }\n",
    "            raw = {k: f.result().strip() for f, k in futures.items()}\n",
    "\n",
    "        summary_text = raw[\"summary\"]\n",
    "        issues_list  = _parse_bullets(raw[\"issues\"], \"-\")\n",
    "        pos_list     = _parse_bullets(raw[\"positives\"], \"+\")\n",
    "\n",
    "        results[topic] = TopicSummary(\n",
    "            summary=summary_text,\n",
    "            issues=issues_list,\n",
    "            positives=pos_list,\n",
    "            avg_rating=avg,\n",
    "            review_count=len(sub),\n",
    "            sentiment_dist=mix,\n",
    "            top_keywords=keywords,\n",
    "            top_phrases=phrases,\n",
    "            prompts=prompts,\n",
    "        )\n",
    "\n",
    "    # ------------- render & plot -------------------------------------\n",
    "    _render_cards(results)\n",
    "    _plot_chart(results, df)\n",
    "    return {k: v.__dict__ for k, v in results.items()}\n",
    "\n",
    "# -------------------------------------------------------------------\n",
    "#  VISUAL HELPER – HTML CARDS\n",
    "# -------------------------------------------------------------------\n",
    "def _render_cards(data: Dict[str, TopicSummary]) -> None:\n",
    "    css = textwrap.dedent(\n",
    "        \"\"\"\n",
    "        <style>\n",
    "          :root {{--blue:{blue};--neg:#E53935;--pos:#43A047;--neu:#FFA000;\n",
    "                 --bg:#fff;--text:#1a1a1a;}}\n",
    "          @media (prefers-color-scheme: dark) {{\n",
    "              :root {{--bg:#121212;--text:#e0e0e0;}}\n",
    "          }}\n",
    "          body {{background:var(--bg);color:var(--text);}}\n",
    "\n",
    "/* container */\n",
    "          .cards {{max-width:1200px;margin:0 auto;font-family:'Helvetica Neue',Arial,sans-serif;}}\n",
    "\n",
    "/* card */\n",
    "          .card {{\n",
    "              display:grid;grid-template-columns:220px 1fr;\n",
    "              border:1px solid #bbb;border-radius:8px;margin:18px 0;\n",
    "              overflow:hidden;box-shadow:0 4px 10px rgba(0,0,0,.12);\n",
    "              animation:fadeIn .4s ease;\n",
    "          }}\n",
    "          @keyframes fadeIn {{from {{opacity:0;transform:translateY(8px);}}\n",
    "                              to   {{opacity:1;transform:translateY(0);}}}}\n",
    "          header {{\n",
    "              grid-column:1/-1;background:linear-gradient(135deg,var(--blue) 0%,#0088cc 100%);\n",
    "              color:#fff;padding:12px 18px;font-size:20px;font-weight:600;\n",
    "          }}\n",
    "\n",
    "/* sidebar */\n",
    "          .side {{\n",
    "              background:#f5f7fa;border-right:1px solid #ddd;\n",
    "              padding:14px;display:flex;flex-direction:column;gap:14px;\n",
    "          }}\n",
    "          .stat .num {{font-weight:700;font-size:19px;line-height:1;color:var(--text);}}\n",
    "          .stat .label{{font-size:11px;text-transform:uppercase;font-weight:600;\n",
    "                       letter-spacing:.4px;color:var(--text);}}\n",
    "          .bar {{display:flex;height:10px;border-radius:4px;overflow:hidden;margin-top:4px;}}\n",
    "          .seg {{flex-shrink:0;transition:opacity .2s;}} .seg:hover {{opacity:.75;}}\n",
    "          .neg{{background:var(--neg);}} .pos{{background:var(--pos);}} .neu{{background:var(--neu);}}\n",
    "\n",
    "/* main */\n",
    "          .main {{padding:18px;line-height:1.6;}}\n",
    "          .summary {{\n",
    "              background:rgba(0,102,177,.07);border-left:3px solid var(--blue);\n",
    "              padding:10px;margin-bottom:16px;line-height:1.6;\n",
    "          }}\n",
    "          .cols {{display:flex;flex-wrap:wrap;gap:24px;margin-bottom:16px;}}\n",
    "          h4 {{margin:0 0 6px;color:var(--blue);font-weight:600;}}\n",
    "          ul {{margin:0;padding-left:18px;}}\n",
    "          li {{margin:4px 0;}}\n",
    "\n",
    "/* chips */\n",
    "          .chips {{margin-bottom:10px;}}\n",
    "          .chip {{\n",
    "              display:inline-block;padding:4px 10px;border-radius:20px;\n",
    "              font-size:11px;font-weight:700;margin:2px;cursor:pointer;\n",
    "              transition:opacity .2s;\n",
    "          }}\n",
    "          .chip:hover {{opacity:.8;}}\n",
    "          .kw{{background:#e3f2fd;color:var(--blue);}}\n",
    "          .ph{{background:#e8f5e9;color:#2e7d32;border:1px solid #c8e6c9;}}\n",
    "\n",
    "/* responsive */\n",
    "          @media (max-width:768px){{\n",
    "              .card{{grid-template-columns:1fr}}\n",
    "              .side{{order:2;border:none;border-top:1px solid #ddd;\n",
    "                    flex-direction:row;justify-content:space-around}}\n",
    "          }}\n",
    "        </style>\n",
    "        \"\"\"\n",
    "    ).format(blue=BMW_BLUE)\n",
    "\n",
    "    output: List[str] = [css, \"<div class='cards'>\"]\n",
    "\n",
    "    # sort by review count\n",
    "    for topic, info in sorted(data.items(), key=lambda x: x[1].review_count, reverse=True):\n",
    "        if topic.lower() == \"other\":\n",
    "            continue\n",
    "\n",
    "        bar = \"\".join(_bar_seg(name, frac) for name, frac in info.sentiment_dist.items())\n",
    "        kw_html = \"\".join(f\"<span class='chip kw'>{html.escape(k)}</span>\" for k in info.top_keywords)\n",
    "        ph_html = \"\".join(f\"<span class='chip ph'>{html.escape(p)}</span>\" for p in info.top_phrases)\n",
    "        issues_html = \"\".join(f\"<li>{html.escape(i)}</li>\" for i in info.issues) or \"<li>No major issues</li>\"\n",
    "        pos_html = \"\".join(f\"<li>{html.escape(p)}</li>\" for p in info.positives) or \"<li>No specific positives</li>\"\n",
    "\n",
    "        output.append(\n",
    "            f\"<div class='card'>\"\n",
    "            f\"<header>{html.escape(topic)}</header>\"\n",
    "\n",
    "            f\"<section class='side'>\"\n",
    "            f\"<div class='stat'><span class='num'>{info.review_count}</span><span class='label'>Reviews</span></div>\"\n",
    "            f\"<div class='stat'><span class='num'>{info.avg_rating:.2f}/5 {info.stars}</span>\"\n",
    "            f\"<span class='label'>Average</span></div>\"\n",
    "            f\"<div class='stat'><span class='label'>Sentiment</span><div class='bar'>{bar}</div></div>\"\n",
    "            \"</section>\"\n",
    "\n",
    "            \"<section class='main'>\"\n",
    "            f\"<p class='summary'>{html.escape(info.summary)}</p>\"\n",
    "            \"<div class='cols'>\"\n",
    "            f\"<div><h4>Issues</h4><ul>{issues_html}</ul></div>\"\n",
    "            f\"<div><h4>Positives</h4><ul>{pos_html}</ul></div>\"\n",
    "            \"</div>\"\n",
    "            f\"<div class='chips'><h4>Keywords</h4>{kw_html}</div>\"\n",
    "            f\"<div class='chips'><h4>Phrases</h4>{ph_html}</div>\"\n",
    "            \"</section>\"\n",
    "            \"</div>\"\n",
    "        )\n",
    "\n",
    "    output.append(\"</div>\")\n",
    "    display(HTML(\"\\n\".join(output)))\n",
    "\n",
    "def _bar_seg(name: str, frac: float) -> str:\n",
    "    cls = \"pos\" if name == \"positive\" else \"neg\" if name == \"negative\" else \"neu\"\n",
    "    pct = max(frac * 100, 1)\n",
    "    return f\"<span class='seg {cls}' style='width:{pct}%' title='{name}: {frac:.1%}'></span>\"\n",
    "\n",
    "# -------------------------------------------------------------------\n",
    "#  VISUAL HELPER – MATPLOTLIB CHART\n",
    "# -------------------------------------------------------------------\n",
    "def _plot_chart(data: Dict[str, TopicSummary], df: pd.DataFrame) -> None:\n",
    "    rows = [(t, d.avg_rating, d.review_count) for t, d in data.items() if t.lower() != \"other\"]\n",
    "    if not rows:\n",
    "        return\n",
    "    topics, ratings, counts = zip(*rows)\n",
    "    order = sorted(range(len(topics)), key=lambda i: ratings[i])\n",
    "    topics = [topics[i] for i in order]\n",
    "    ratings = [ratings[i] for i in order]\n",
    "    counts = [counts[i] for i in order]\n",
    "\n",
    "    cmap = mpl.colormaps.get_cmap(\"viridis\").resampled(len(topics))\n",
    "\n",
    "    plt.figure(figsize=(12, 10))\n",
    "    bars = plt.barh(topics, ratings, color=[cmap(i) for i in range(len(topics))])\n",
    "\n",
    "    for bar, cnt, rating in zip(bars, counts, ratings):\n",
    "        x = rating + 0.05 if rating < 2.5 else rating - 0.6\n",
    "        clr = \"black\" if rating < 2.5 else \"white\"\n",
    "        plt.text(x, bar.get_y() + bar.get_height() / 2, f\"n={cnt}\", va=\"center\",\n",
    "                 color=clr, fontweight=\"bold\")\n",
    "\n",
    "    mean = df[\"score\"].mean()\n",
    "    plt.axvline(mean, linestyle=\"--\", linewidth=2, label=f\"Overall {mean:.2f}\")\n",
    "    plt.xticks(range(1, 6), [\"★\" * i for i in range(1, 6)])\n",
    "    plt.xlim(0, 5.2)\n",
    "    plt.xlabel(\"Star Rating\")\n",
    "    plt.ylabel(\"Topic\")\n",
    "    plt.title(\"BMW App – Average Rating by Topic\")\n",
    "    plt.legend()\n",
    "    plt.grid(axis=\"x\", linestyle=\"--\", alpha=0.5)\n",
    "    plt.tight_layout()\n",
    "    plt.show()\n",
    "\n",
    "# -------------------------------------------------------------------\n",
    "#  MISC HELPERS\n",
    "# -------------------------------------------------------------------\n",
    "def _setup_logger() -> logging.Logger:\n",
    "    logging.basicConfig(level=logging.INFO, format=\"%(levelname)s: %(message)s\")\n",
    "    return logging.getLogger(\"bmw_topic_cards\")"
   ]
  },
  {
   "cell_type": "code",
   "execution_count": null,
   "metadata": {},
   "outputs": [
    {
     "name": "stdout",
     "output_type": "stream",
     "text": [
      "Starting evaluation with qwen3:14b...\n",
      "Loaded 120 records\n",
      "\n",
      "Evaluating translations:\n"
     ]
    },
    {
     "name": "stderr",
     "output_type": "stream",
     "text": [
      "Progress:   1%|          | 1/120 [01:11<2:21:35, 71.39s/it]"
     ]
    },
    {
     "name": "stdout",
     "output_type": "stream",
     "text": [
      "Row 1: German - A(4) vs B(5) → B\n"
     ]
    },
    {
     "name": "stderr",
     "output_type": "stream",
     "text": [
      "Progress:   2%|▏         | 2/120 [02:25<2:23:25, 72.93s/it]"
     ]
    },
    {
     "name": "stdout",
     "output_type": "stream",
     "text": [
      "Row 2: German - A(4) vs B(5) → B\n"
     ]
    },
    {
     "name": "stderr",
     "output_type": "stream",
     "text": [
      "Progress:   2%|▎         | 3/120 [03:32<2:17:06, 70.32s/it]"
     ]
    },
    {
     "name": "stdout",
     "output_type": "stream",
     "text": [
      "Row 3: German - A(4) vs B(4) → Tie\n"
     ]
    },
    {
     "name": "stderr",
     "output_type": "stream",
     "text": [
      "Progress:   3%|▎         | 4/120 [04:38<2:12:33, 68.56s/it]"
     ]
    },
    {
     "name": "stdout",
     "output_type": "stream",
     "text": [
      "Row 4: German - A(4) vs B(3) → A\n"
     ]
    },
    {
     "name": "stderr",
     "output_type": "stream",
     "text": [
      "Progress:   4%|▍         | 5/120 [05:40<2:07:10, 66.35s/it]"
     ]
    },
    {
     "name": "stdout",
     "output_type": "stream",
     "text": [
      "Row 5: German - A(4) vs B(4) → Tie\n"
     ]
    },
    {
     "name": "stderr",
     "output_type": "stream",
     "text": [
      "Progress:   5%|▌         | 6/120 [06:36<1:59:10, 62.72s/it]"
     ]
    },
    {
     "name": "stdout",
     "output_type": "stream",
     "text": [
      "Row 6: German - A(4) vs B(5) → B\n"
     ]
    },
    {
     "name": "stderr",
     "output_type": "stream",
     "text": [
      "Progress:   6%|▌         | 7/120 [08:19<2:22:45, 75.80s/it]"
     ]
    },
    {
     "name": "stdout",
     "output_type": "stream",
     "text": [
      "Row 7: German - A(3) vs B(4) → B\n"
     ]
    },
    {
     "name": "stderr",
     "output_type": "stream",
     "text": [
      "Progress:   7%|▋         | 8/120 [09:42<2:25:55, 78.17s/it]"
     ]
    },
    {
     "name": "stdout",
     "output_type": "stream",
     "text": [
      "Row 8: German - A(3) vs B(4) → B\n"
     ]
    },
    {
     "name": "stderr",
     "output_type": "stream",
     "text": [
      "Progress:   8%|▊         | 9/120 [10:28<2:05:58, 68.09s/it]"
     ]
    },
    {
     "name": "stdout",
     "output_type": "stream",
     "text": [
      "Row 9: German - A(4) vs B(5) → B\n"
     ]
    },
    {
     "name": "stderr",
     "output_type": "stream",
     "text": [
      "Progress:   8%|▊         | 10/120 [11:30<2:01:08, 66.08s/it]"
     ]
    },
    {
     "name": "stdout",
     "output_type": "stream",
     "text": [
      "Row 10: German - A(5) vs B(5) → Tie\n"
     ]
    },
    {
     "name": "stderr",
     "output_type": "stream",
     "text": [
      "Progress:   9%|▉         | 11/120 [12:57<2:11:52, 72.59s/it]"
     ]
    },
    {
     "name": "stdout",
     "output_type": "stream",
     "text": [
      "Row 11: German - A(4) vs B(5) → B\n"
     ]
    },
    {
     "name": "stderr",
     "output_type": "stream",
     "text": [
      "Progress:  10%|█         | 12/120 [14:20<2:16:26, 75.80s/it]"
     ]
    },
    {
     "name": "stdout",
     "output_type": "stream",
     "text": [
      "Row 12: German - A(4) vs B(5) → B\n"
     ]
    },
    {
     "name": "stderr",
     "output_type": "stream",
     "text": [
      "Progress:  11%|█         | 13/120 [15:25<2:09:21, 72.54s/it]"
     ]
    },
    {
     "name": "stdout",
     "output_type": "stream",
     "text": [
      "Row 13: German - A(4) vs B(5) → B\n"
     ]
    },
    {
     "name": "stderr",
     "output_type": "stream",
     "text": [
      "Progress:  12%|█▏        | 14/120 [16:23<2:00:14, 68.07s/it]"
     ]
    },
    {
     "name": "stdout",
     "output_type": "stream",
     "text": [
      "Row 14: German - A(4) vs B(5) → B\n"
     ]
    },
    {
     "name": "stderr",
     "output_type": "stream",
     "text": [
      "Progress:  12%|█▎        | 15/120 [17:10<1:47:55, 61.67s/it]"
     ]
    },
    {
     "name": "stdout",
     "output_type": "stream",
     "text": [
      "Row 15: German - A(4) vs B(5) → B\n"
     ]
    },
    {
     "name": "stderr",
     "output_type": "stream",
     "text": [
      "Progress:  13%|█▎        | 16/120 [18:17<1:49:35, 63.23s/it]"
     ]
    },
    {
     "name": "stdout",
     "output_type": "stream",
     "text": [
      "Row 16: German - A(5) vs B(5) → Tie\n"
     ]
    },
    {
     "name": "stderr",
     "output_type": "stream",
     "text": [
      "Progress:  14%|█▍        | 17/120 [19:30<1:53:51, 66.33s/it]"
     ]
    },
    {
     "name": "stdout",
     "output_type": "stream",
     "text": [
      "Row 17: German - A(4) vs B(5) → B\n"
     ]
    },
    {
     "name": "stderr",
     "output_type": "stream",
     "text": [
      "Progress:  15%|█▌        | 18/120 [20:20<1:44:32, 61.50s/it]"
     ]
    },
    {
     "name": "stdout",
     "output_type": "stream",
     "text": [
      "Row 18: German - A(5) vs B(4) → A\n"
     ]
    },
    {
     "name": "stderr",
     "output_type": "stream",
     "text": [
      "Progress:  16%|█▌        | 19/120 [21:26<1:45:29, 62.67s/it]"
     ]
    },
    {
     "name": "stdout",
     "output_type": "stream",
     "text": [
      "Row 19: German - A(4) vs B(4) → Tie\n"
     ]
    },
    {
     "name": "stderr",
     "output_type": "stream",
     "text": [
      "Progress:  17%|█▋        | 20/120 [22:45<1:52:31, 67.52s/it]"
     ]
    },
    {
     "name": "stdout",
     "output_type": "stream",
     "text": [
      "Row 20: German - A(4) vs B(4) → Tie\n"
     ]
    },
    {
     "name": "stderr",
     "output_type": "stream",
     "text": [
      "Progress:  18%|█▊        | 21/120 [23:33<1:41:54, 61.76s/it]"
     ]
    },
    {
     "name": "stdout",
     "output_type": "stream",
     "text": [
      "Row 21: German - A(4) vs B(5) → B\n"
     ]
    },
    {
     "name": "stderr",
     "output_type": "stream",
     "text": [
      "Progress:  18%|█▊        | 22/120 [24:36<1:41:27, 62.11s/it]"
     ]
    },
    {
     "name": "stdout",
     "output_type": "stream",
     "text": [
      "Row 22: German - A(5) vs B(5) → Tie\n"
     ]
    },
    {
     "name": "stderr",
     "output_type": "stream",
     "text": [
      "Progress:  19%|█▉        | 23/120 [25:55<1:48:50, 67.32s/it]"
     ]
    },
    {
     "name": "stdout",
     "output_type": "stream",
     "text": [
      "Row 23: German - A(5) vs B(1) → A\n"
     ]
    },
    {
     "name": "stderr",
     "output_type": "stream",
     "text": [
      "Progress:  20%|██        | 24/120 [27:26<1:58:50, 74.28s/it]"
     ]
    },
    {
     "name": "stdout",
     "output_type": "stream",
     "text": [
      "Row 24: German - A(4) vs B(5) → B\n"
     ]
    },
    {
     "name": "stderr",
     "output_type": "stream",
     "text": [
      "Progress:  21%|██        | 25/120 [28:34<1:54:36, 72.38s/it]"
     ]
    },
    {
     "name": "stdout",
     "output_type": "stream",
     "text": [
      "Row 25: German - A(4) vs B(4) → Tie\n"
     ]
    },
    {
     "name": "stderr",
     "output_type": "stream",
     "text": [
      "Progress:  22%|██▏       | 26/120 [29:37<1:48:59, 69.56s/it]"
     ]
    },
    {
     "name": "stdout",
     "output_type": "stream",
     "text": [
      "Row 26: German - A(5) vs B(4) → A\n"
     ]
    },
    {
     "name": "stderr",
     "output_type": "stream",
     "text": [
      "Progress:  22%|██▎       | 27/120 [30:29<1:39:47, 64.38s/it]"
     ]
    },
    {
     "name": "stdout",
     "output_type": "stream",
     "text": [
      "Row 27: German - A(3) vs B(4) → B\n"
     ]
    },
    {
     "name": "stderr",
     "output_type": "stream",
     "text": [
      "Progress:  23%|██▎       | 28/120 [31:28<1:36:19, 62.82s/it]"
     ]
    },
    {
     "name": "stdout",
     "output_type": "stream",
     "text": [
      "Row 28: German - A(4) vs B(5) → B\n"
     ]
    },
    {
     "name": "stderr",
     "output_type": "stream",
     "text": [
      "Progress:  24%|██▍       | 29/120 [32:30<1:34:37, 62.39s/it]"
     ]
    },
    {
     "name": "stdout",
     "output_type": "stream",
     "text": [
      "Row 29: German - A(4) vs B(4) → Tie\n"
     ]
    },
    {
     "name": "stderr",
     "output_type": "stream",
     "text": [
      "Progress:  25%|██▌       | 30/120 [33:33<1:33:53, 62.59s/it]"
     ]
    },
    {
     "name": "stdout",
     "output_type": "stream",
     "text": [
      "Row 30: German - A(4) vs B(5) → B\n"
     ]
    },
    {
     "name": "stderr",
     "output_type": "stream",
     "text": [
      "Progress:  26%|██▌       | 31/120 [34:38<1:34:12, 63.51s/it]"
     ]
    },
    {
     "name": "stdout",
     "output_type": "stream",
     "text": [
      "Row 31: Italian - A(4) vs B(4) → Tie\n"
     ]
    },
    {
     "name": "stderr",
     "output_type": "stream",
     "text": [
      "Progress:  27%|██▋       | 32/120 [35:49<1:36:07, 65.54s/it]"
     ]
    },
    {
     "name": "stdout",
     "output_type": "stream",
     "text": [
      "Row 32: Italian - A(4) vs B(4) → Tie\n"
     ]
    },
    {
     "name": "stderr",
     "output_type": "stream",
     "text": [
      "Progress:  28%|██▊       | 33/120 [36:32<1:25:23, 58.89s/it]"
     ]
    },
    {
     "name": "stdout",
     "output_type": "stream",
     "text": [
      "Row 33: Italian - A(4) vs B(4) → Tie\n"
     ]
    },
    {
     "name": "stderr",
     "output_type": "stream",
     "text": [
      "Progress:  28%|██▊       | 34/120 [37:34<1:25:59, 59.99s/it]"
     ]
    },
    {
     "name": "stdout",
     "output_type": "stream",
     "text": [
      "Row 34: Italian - A(5) vs B(5) → Tie\n"
     ]
    },
    {
     "name": "stderr",
     "output_type": "stream",
     "text": [
      "Progress:  29%|██▉       | 35/120 [38:29<1:22:38, 58.33s/it]"
     ]
    },
    {
     "name": "stdout",
     "output_type": "stream",
     "text": [
      "Row 35: Italian - A(4) vs B(2) → A\n"
     ]
    },
    {
     "name": "stderr",
     "output_type": "stream",
     "text": [
      "Progress:  30%|███       | 36/120 [39:21<1:19:03, 56.47s/it]"
     ]
    },
    {
     "name": "stdout",
     "output_type": "stream",
     "text": [
      "Row 36: Italian - A(4) vs B(4) → Tie\n"
     ]
    },
    {
     "name": "stderr",
     "output_type": "stream",
     "text": [
      "Progress:  31%|███       | 37/120 [40:06<1:13:15, 52.96s/it]"
     ]
    },
    {
     "name": "stdout",
     "output_type": "stream",
     "text": [
      "Row 37: Italian - A(4) vs B(4) → Tie\n"
     ]
    },
    {
     "name": "stderr",
     "output_type": "stream",
     "text": [
      "Progress:  32%|███▏      | 38/120 [41:05<1:15:03, 54.93s/it]"
     ]
    },
    {
     "name": "stdout",
     "output_type": "stream",
     "text": [
      "Row 38: Italian - A(3) vs B(4) → B\n"
     ]
    },
    {
     "name": "stderr",
     "output_type": "stream",
     "text": [
      "Progress:  32%|███▎      | 39/120 [42:01<1:14:27, 55.15s/it]"
     ]
    },
    {
     "name": "stdout",
     "output_type": "stream",
     "text": [
      "Row 39: Italian - A(4) vs B(4) → Tie\n"
     ]
    },
    {
     "name": "stderr",
     "output_type": "stream",
     "text": [
      "Progress:  33%|███▎      | 40/120 [42:51<1:11:39, 53.75s/it]"
     ]
    },
    {
     "name": "stdout",
     "output_type": "stream",
     "text": [
      "Row 40: Italian - A(5) vs B(4) → A\n"
     ]
    },
    {
     "name": "stderr",
     "output_type": "stream",
     "text": [
      "Progress:  34%|███▍      | 41/120 [43:22<1:01:32, 46.74s/it]"
     ]
    },
    {
     "name": "stdout",
     "output_type": "stream",
     "text": [
      "Row 41: Italian - A(5) vs B(4) → A\n"
     ]
    },
    {
     "name": "stderr",
     "output_type": "stream",
     "text": [
      "Progress:  35%|███▌      | 42/120 [44:11<1:01:45, 47.51s/it]"
     ]
    },
    {
     "name": "stdout",
     "output_type": "stream",
     "text": [
      "Row 42: Italian - A(4) vs B(4) → Tie\n"
     ]
    },
    {
     "name": "stderr",
     "output_type": "stream",
     "text": [
      "Progress:  36%|███▌      | 43/120 [45:11<1:05:40, 51.18s/it]"
     ]
    },
    {
     "name": "stdout",
     "output_type": "stream",
     "text": [
      "Row 43: Italian - A(3) vs B(4) → B\n"
     ]
    },
    {
     "name": "stderr",
     "output_type": "stream",
     "text": [
      "Progress:  37%|███▋      | 44/120 [46:06<1:06:23, 52.41s/it]"
     ]
    },
    {
     "name": "stdout",
     "output_type": "stream",
     "text": [
      "Row 44: Italian - A(4) vs B(3) → A\n"
     ]
    },
    {
     "name": "stderr",
     "output_type": "stream",
     "text": [
      "Progress:  38%|███▊      | 45/120 [47:16<1:11:55, 57.54s/it]"
     ]
    },
    {
     "name": "stdout",
     "output_type": "stream",
     "text": [
      "Row 45: Italian - A(4) vs B(4) → Tie\n"
     ]
    },
    {
     "name": "stderr",
     "output_type": "stream",
     "text": [
      "Progress:  38%|███▊      | 46/120 [48:55<1:26:33, 70.18s/it]"
     ]
    },
    {
     "name": "stdout",
     "output_type": "stream",
     "text": [
      "Row 46: Italian - A(5) vs B(4) → A\n"
     ]
    },
    {
     "name": "stderr",
     "output_type": "stream",
     "text": [
      "Progress:  39%|███▉      | 47/120 [50:18<1:29:51, 73.86s/it]"
     ]
    },
    {
     "name": "stdout",
     "output_type": "stream",
     "text": [
      "Row 47: Italian - A(3) vs B(4) → B\n"
     ]
    },
    {
     "name": "stderr",
     "output_type": "stream",
     "text": [
      "Progress:  40%|████      | 48/120 [51:11<1:21:13, 67.69s/it]"
     ]
    },
    {
     "name": "stdout",
     "output_type": "stream",
     "text": [
      "Row 48: Italian - A(5) vs B(5) → Tie\n"
     ]
    },
    {
     "name": "stderr",
     "output_type": "stream",
     "text": [
      "Progress:  41%|████      | 49/120 [52:22<1:21:14, 68.66s/it]"
     ]
    },
    {
     "name": "stdout",
     "output_type": "stream",
     "text": [
      "Row 49: Italian - A(4) vs B(3) → A\n"
     ]
    },
    {
     "name": "stderr",
     "output_type": "stream",
     "text": [
      "Progress:  42%|████▏     | 50/120 [53:46<1:25:32, 73.33s/it]"
     ]
    },
    {
     "name": "stdout",
     "output_type": "stream",
     "text": [
      "Row 50: Italian - A(4) vs B(4) → Tie\n"
     ]
    },
    {
     "name": "stderr",
     "output_type": "stream",
     "text": [
      "Progress:  42%|████▎     | 51/120 [54:28<1:13:18, 63.75s/it]"
     ]
    },
    {
     "name": "stdout",
     "output_type": "stream",
     "text": [
      "Row 51: Italian - A(5) vs B(5) → Tie\n"
     ]
    },
    {
     "name": "stderr",
     "output_type": "stream",
     "text": [
      "Progress:  43%|████▎     | 52/120 [55:23<1:09:21, 61.20s/it]"
     ]
    },
    {
     "name": "stdout",
     "output_type": "stream",
     "text": [
      "Row 52: Italian - A(4) vs B(4) → Tie\n"
     ]
    },
    {
     "name": "stderr",
     "output_type": "stream",
     "text": [
      "Progress:  44%|████▍     | 53/120 [56:24<1:08:26, 61.30s/it]"
     ]
    },
    {
     "name": "stdout",
     "output_type": "stream",
     "text": [
      "Row 53: Italian - A(3) vs B(5) → B\n"
     ]
    },
    {
     "name": "stderr",
     "output_type": "stream",
     "text": [
      "Progress:  45%|████▌     | 54/120 [57:33<1:09:49, 63.48s/it]"
     ]
    },
    {
     "name": "stdout",
     "output_type": "stream",
     "text": [
      "Row 54: Italian - A(5) vs B(3) → A\n"
     ]
    },
    {
     "name": "stderr",
     "output_type": "stream",
     "text": [
      "Progress:  46%|████▌     | 55/120 [58:34<1:07:49, 62.60s/it]"
     ]
    },
    {
     "name": "stdout",
     "output_type": "stream",
     "text": [
      "Row 55: Italian - A(4) vs B(5) → B\n"
     ]
    },
    {
     "name": "stderr",
     "output_type": "stream",
     "text": [
      "Progress:  47%|████▋     | 56/120 [59:19<1:01:10, 57.35s/it]"
     ]
    },
    {
     "name": "stdout",
     "output_type": "stream",
     "text": [
      "Row 56: Italian - A(4) vs B(5) → B\n"
     ]
    },
    {
     "name": "stderr",
     "output_type": "stream",
     "text": [
      "Progress:  48%|████▊     | 57/120 [1:00:18<1:00:57, 58.05s/it]"
     ]
    },
    {
     "name": "stdout",
     "output_type": "stream",
     "text": [
      "Row 57: Italian - A(4) vs B(4) → Tie\n"
     ]
    },
    {
     "name": "stderr",
     "output_type": "stream",
     "text": [
      "Progress:  48%|████▊     | 58/120 [1:01:04<56:02, 54.23s/it]  "
     ]
    },
    {
     "name": "stdout",
     "output_type": "stream",
     "text": [
      "Row 58: Italian - A(4) vs B(4) → Tie\n"
     ]
    },
    {
     "name": "stderr",
     "output_type": "stream",
     "text": [
      "Progress:  49%|████▉     | 59/120 [1:02:00<55:50, 54.92s/it]"
     ]
    },
    {
     "name": "stdout",
     "output_type": "stream",
     "text": [
      "Row 59: Italian - A(4) vs B(4) → Tie\n"
     ]
    },
    {
     "name": "stderr",
     "output_type": "stream",
     "text": [
      "Progress:  50%|█████     | 60/120 [1:02:52<54:01, 54.02s/it]"
     ]
    },
    {
     "name": "stdout",
     "output_type": "stream",
     "text": [
      "Row 60: Italian - A(4) vs B(4) → Tie\n"
     ]
    },
    {
     "name": "stderr",
     "output_type": "stream",
     "text": [
      "Progress:  51%|█████     | 61/120 [1:04:12<1:00:42, 61.73s/it]"
     ]
    },
    {
     "name": "stdout",
     "output_type": "stream",
     "text": [
      "Row 61: Spanish - A(4) vs B(4) → Tie\n"
     ]
    },
    {
     "name": "stderr",
     "output_type": "stream",
     "text": [
      "Progress:  52%|█████▏    | 62/120 [1:05:20<1:01:26, 63.55s/it]"
     ]
    },
    {
     "name": "stdout",
     "output_type": "stream",
     "text": [
      "Row 62: Spanish - A(4) vs B(4) → Tie\n"
     ]
    },
    {
     "name": "stderr",
     "output_type": "stream",
     "text": [
      "Progress:  52%|█████▎    | 63/120 [1:17:55<4:17:29, 271.04s/it]"
     ]
    },
    {
     "name": "stdout",
     "output_type": "stream",
     "text": [
      "Row 63: Spanish - A(4) vs B(5) → B\n"
     ]
    },
    {
     "name": "stderr",
     "output_type": "stream",
     "text": [
      "Progress:  53%|█████▎    | 64/120 [1:18:48<3:11:52, 205.57s/it]"
     ]
    },
    {
     "name": "stdout",
     "output_type": "stream",
     "text": [
      "Row 64: Spanish - A(4) vs B(4) → Tie\n"
     ]
    },
    {
     "name": "stderr",
     "output_type": "stream",
     "text": [
      "Progress:  54%|█████▍    | 65/120 [1:19:19<2:20:26, 153.21s/it]"
     ]
    },
    {
     "name": "stdout",
     "output_type": "stream",
     "text": [
      "Row 65: Spanish - A(5) vs B(5) → Tie\n"
     ]
    },
    {
     "name": "stderr",
     "output_type": "stream",
     "text": [
      "Progress:  55%|█████▌    | 66/120 [1:20:33<1:56:32, 129.48s/it]"
     ]
    },
    {
     "name": "stdout",
     "output_type": "stream",
     "text": [
      "Row 66: Spanish - A(4) vs B(4) → Tie\n"
     ]
    },
    {
     "name": "stderr",
     "output_type": "stream",
     "text": [
      "Progress:  56%|█████▌    | 67/120 [1:21:44<1:39:00, 112.08s/it]"
     ]
    },
    {
     "name": "stdout",
     "output_type": "stream",
     "text": [
      "Row 67: Spanish - A(4) vs B(4) → Tie\n"
     ]
    },
    {
     "name": "stderr",
     "output_type": "stream",
     "text": [
      "Progress:  57%|█████▋    | 68/120 [1:22:37<1:21:49, 94.41s/it] "
     ]
    },
    {
     "name": "stdout",
     "output_type": "stream",
     "text": [
      "Row 68: Spanish - A(4) vs B(5) → B\n"
     ]
    },
    {
     "name": "stderr",
     "output_type": "stream",
     "text": [
      "Progress:  57%|█████▊    | 69/120 [1:23:45<1:13:30, 86.48s/it]"
     ]
    },
    {
     "name": "stdout",
     "output_type": "stream",
     "text": [
      "Row 69: Spanish - A(4) vs B(4) → Tie\n"
     ]
    },
    {
     "name": "stderr",
     "output_type": "stream",
     "text": [
      "Progress:  58%|█████▊    | 70/120 [1:24:46<1:05:39, 78.79s/it]"
     ]
    },
    {
     "name": "stdout",
     "output_type": "stream",
     "text": [
      "Row 70: Spanish - A(3) vs B(2) → A\n"
     ]
    },
    {
     "name": "stderr",
     "output_type": "stream",
     "text": [
      "Progress:  59%|█████▉    | 71/120 [1:25:35<56:53, 69.67s/it]  "
     ]
    },
    {
     "name": "stdout",
     "output_type": "stream",
     "text": [
      "Row 71: Spanish - A(4) vs B(4) → Tie\n"
     ]
    },
    {
     "name": "stderr",
     "output_type": "stream",
     "text": [
      "Progress:  60%|██████    | 72/120 [1:26:22<50:20, 62.92s/it]"
     ]
    },
    {
     "name": "stdout",
     "output_type": "stream",
     "text": [
      "Row 72: Spanish - A(4) vs B(5) → B\n"
     ]
    },
    {
     "name": "stderr",
     "output_type": "stream",
     "text": [
      "Progress:  61%|██████    | 73/120 [1:27:10<45:50, 58.52s/it]"
     ]
    },
    {
     "name": "stdout",
     "output_type": "stream",
     "text": [
      "Row 73: Spanish - A(5) vs B(4) → A\n",
      "Error: HTTPConnectionPool(host='localhost', port=11434): Read timed out. (read timeout=60)\n"
     ]
    },
    {
     "name": "stderr",
     "output_type": "stream",
     "text": [
      "Progress:  62%|██████▏   | 74/120 [1:29:52<1:08:38, 89.52s/it]"
     ]
    },
    {
     "name": "stdout",
     "output_type": "stream",
     "text": [
      "Row 74: Spanish - A(4) vs B(4) → Tie\n"
     ]
    },
    {
     "name": "stderr",
     "output_type": "stream",
     "text": [
      "Progress:  62%|██████▎   | 75/120 [1:30:49<59:45, 79.68s/it]  "
     ]
    },
    {
     "name": "stdout",
     "output_type": "stream",
     "text": [
      "Row 75: Spanish - A(5) vs B(5) → Tie\n"
     ]
    },
    {
     "name": "stderr",
     "output_type": "stream",
     "text": [
      "Progress:  63%|██████▎   | 76/120 [1:31:37<51:32, 70.28s/it]"
     ]
    },
    {
     "name": "stdout",
     "output_type": "stream",
     "text": [
      "Row 76: Spanish - A(5) vs B(5) → Tie\n"
     ]
    },
    {
     "name": "stderr",
     "output_type": "stream",
     "text": [
      "Progress:  64%|██████▍   | 77/120 [1:32:38<48:25, 67.57s/it]"
     ]
    },
    {
     "name": "stdout",
     "output_type": "stream",
     "text": [
      "Row 77: Spanish - A(3) vs B(3) → Tie\n"
     ]
    },
    {
     "name": "stderr",
     "output_type": "stream",
     "text": [
      "Progress:  65%|██████▌   | 78/120 [1:33:53<48:46, 69.68s/it]"
     ]
    },
    {
     "name": "stdout",
     "output_type": "stream",
     "text": [
      "Row 78: Spanish - A(3) vs B(4) → B\n"
     ]
    },
    {
     "name": "stderr",
     "output_type": "stream",
     "text": [
      "Progress:  66%|██████▌   | 79/120 [1:35:01<47:21, 69.30s/it]"
     ]
    },
    {
     "name": "stdout",
     "output_type": "stream",
     "text": [
      "Row 79: Spanish - A(4) vs B(4) → Tie\n"
     ]
    },
    {
     "name": "stderr",
     "output_type": "stream",
     "text": [
      "Progress:  67%|██████▋   | 80/120 [1:36:16<47:17, 70.93s/it]"
     ]
    },
    {
     "name": "stdout",
     "output_type": "stream",
     "text": [
      "Row 80: Spanish - A(4) vs B(4) → Tie\n"
     ]
    },
    {
     "name": "stderr",
     "output_type": "stream",
     "text": [
      "Progress:  68%|██████▊   | 81/120 [1:37:13<43:21, 66.70s/it]"
     ]
    },
    {
     "name": "stdout",
     "output_type": "stream",
     "text": [
      "Row 81: Spanish - A(3) vs B(3) → Tie\n"
     ]
    },
    {
     "name": "stderr",
     "output_type": "stream",
     "text": [
      "Progress:  68%|██████▊   | 82/120 [1:38:32<44:34, 70.38s/it]"
     ]
    },
    {
     "name": "stdout",
     "output_type": "stream",
     "text": [
      "Row 82: Spanish - A(4) vs B(4) → Tie\n"
     ]
    },
    {
     "name": "stderr",
     "output_type": "stream",
     "text": [
      "Progress:  69%|██████▉   | 83/120 [1:39:17<38:43, 62.79s/it]"
     ]
    },
    {
     "name": "stdout",
     "output_type": "stream",
     "text": [
      "Row 83: Spanish - A(4) vs B(3) → A\n"
     ]
    },
    {
     "name": "stderr",
     "output_type": "stream",
     "text": [
      "Progress:  70%|███████   | 84/120 [1:40:33<40:08, 66.91s/it]"
     ]
    },
    {
     "name": "stdout",
     "output_type": "stream",
     "text": [
      "Row 84: Spanish - A(4) vs B(5) → B\n"
     ]
    },
    {
     "name": "stderr",
     "output_type": "stream",
     "text": [
      "Progress:  71%|███████   | 85/120 [1:41:09<33:35, 57.59s/it]"
     ]
    },
    {
     "name": "stdout",
     "output_type": "stream",
     "text": [
      "Row 85: Spanish - A(5) vs B(5) → Tie\n"
     ]
    },
    {
     "name": "stderr",
     "output_type": "stream",
     "text": [
      "Progress:  72%|███████▏  | 86/120 [1:42:04<32:04, 56.59s/it]"
     ]
    },
    {
     "name": "stdout",
     "output_type": "stream",
     "text": [
      "Row 86: Spanish - A(5) vs B(4) → A\n"
     ]
    },
    {
     "name": "stderr",
     "output_type": "stream",
     "text": [
      "Progress:  72%|███████▎  | 87/120 [1:43:15<33:31, 60.95s/it]"
     ]
    },
    {
     "name": "stdout",
     "output_type": "stream",
     "text": [
      "Row 87: Spanish - A(4) vs B(3) → A\n"
     ]
    },
    {
     "name": "stderr",
     "output_type": "stream",
     "text": [
      "Progress:  73%|███████▎  | 88/120 [1:43:59<29:46, 55.84s/it]"
     ]
    },
    {
     "name": "stdout",
     "output_type": "stream",
     "text": [
      "Row 88: Spanish - A(5) vs B(5) → Tie\n"
     ]
    },
    {
     "name": "stderr",
     "output_type": "stream",
     "text": [
      "Progress:  74%|███████▍  | 89/120 [1:44:58<29:23, 56.88s/it]"
     ]
    },
    {
     "name": "stdout",
     "output_type": "stream",
     "text": [
      "Row 89: Spanish - A(4) vs B(5) → B\n"
     ]
    },
    {
     "name": "stderr",
     "output_type": "stream",
     "text": [
      "Progress:  75%|███████▌  | 90/120 [1:45:51<27:56, 55.89s/it]"
     ]
    },
    {
     "name": "stdout",
     "output_type": "stream",
     "text": [
      "Row 90: Spanish - A(4) vs B(4) → Tie\n"
     ]
    },
    {
     "name": "stderr",
     "output_type": "stream",
     "text": [
      "Progress:  76%|███████▌  | 91/120 [1:46:27<24:04, 49.81s/it]"
     ]
    },
    {
     "name": "stdout",
     "output_type": "stream",
     "text": [
      "Row 91: French - A(4) vs B(4) → Tie\n"
     ]
    },
    {
     "name": "stderr",
     "output_type": "stream",
     "text": [
      "Progress:  77%|███████▋  | 92/120 [1:47:41<26:35, 57.00s/it]"
     ]
    },
    {
     "name": "stdout",
     "output_type": "stream",
     "text": [
      "Row 92: French - A(4) vs B(4) → Tie\n"
     ]
    },
    {
     "name": "stderr",
     "output_type": "stream",
     "text": [
      "Progress:  78%|███████▊  | 93/120 [1:48:32<24:51, 55.23s/it]"
     ]
    },
    {
     "name": "stdout",
     "output_type": "stream",
     "text": [
      "Row 93: French - A(5) vs B(5) → Tie\n"
     ]
    },
    {
     "name": "stderr",
     "output_type": "stream",
     "text": [
      "Progress:  78%|███████▊  | 94/120 [1:49:12<21:56, 50.65s/it]"
     ]
    },
    {
     "name": "stdout",
     "output_type": "stream",
     "text": [
      "Row 94: French - A(5) vs B(5) → Tie\n"
     ]
    },
    {
     "name": "stderr",
     "output_type": "stream",
     "text": [
      "Progress:  79%|███████▉  | 95/120 [1:49:59<20:38, 49.54s/it]"
     ]
    },
    {
     "name": "stdout",
     "output_type": "stream",
     "text": [
      "Row 95: French - A(5) vs B(4) → A\n"
     ]
    },
    {
     "name": "stderr",
     "output_type": "stream",
     "text": [
      "Progress:  80%|████████  | 96/120 [1:51:23<23:57, 59.89s/it]"
     ]
    },
    {
     "name": "stdout",
     "output_type": "stream",
     "text": [
      "Row 96: French - A(4) vs B(3) → A\n"
     ]
    },
    {
     "name": "stderr",
     "output_type": "stream",
     "text": [
      "Progress:  81%|████████  | 97/120 [1:52:23<22:55, 59.80s/it]"
     ]
    },
    {
     "name": "stdout",
     "output_type": "stream",
     "text": [
      "Row 97: French - A(4) vs B(5) → B\n"
     ]
    },
    {
     "name": "stderr",
     "output_type": "stream",
     "text": [
      "Progress:  82%|████████▏ | 98/120 [1:53:33<23:06, 63.03s/it]"
     ]
    },
    {
     "name": "stdout",
     "output_type": "stream",
     "text": [
      "Row 98: French - A(4) vs B(3) → A\n"
     ]
    },
    {
     "name": "stderr",
     "output_type": "stream",
     "text": [
      "Progress:  82%|████████▎ | 99/120 [1:54:30<21:25, 61.21s/it]"
     ]
    },
    {
     "name": "stdout",
     "output_type": "stream",
     "text": [
      "Row 99: French - A(4) vs B(5) → B\n"
     ]
    },
    {
     "name": "stderr",
     "output_type": "stream",
     "text": [
      "Progress:  83%|████████▎ | 100/120 [1:55:21<19:25, 58.25s/it]"
     ]
    },
    {
     "name": "stdout",
     "output_type": "stream",
     "text": [
      "Row 100: French - A(3) vs B(5) → B\n"
     ]
    },
    {
     "name": "stderr",
     "output_type": "stream",
     "text": [
      "Progress:  84%|████████▍ | 101/120 [1:56:25<18:56, 59.80s/it]"
     ]
    },
    {
     "name": "stdout",
     "output_type": "stream",
     "text": [
      "Row 101: French - A(4) vs B(4) → Tie\n"
     ]
    }
   ],
   "source": [
    "#!/usr/bin/env python3\n",
    "# -*- coding: utf-8 -*-\n",
    "\n",
    "\"\"\"\n",
    "Evaluate translations of app reviews by scoring on a scale of 1-5.\n",
    "\"\"\"\n",
    "\n",
    "import pandas as pd\n",
    "import requests\n",
    "import time\n",
    "from tqdm import tqdm\n",
    "import os\n",
    "import re\n",
    "\n",
    "def evaluate_translations(input_file, output_file, model='llama3.1:8b', max_retries=2, timeout=60):\n",
    "    print(f\"Starting evaluation with {model}...\")\n",
    "    \n",
    "    # Quick API test\n",
    "    try:\n",
    "        response = requests.get(\"http://localhost:11434/api/tags\")\n",
    "        if response.status_code != 200:\n",
    "            print(f\"⚠️ Ollama API error: {response.status_code}\")\n",
    "            return\n",
    "    except Exception as e:\n",
    "        print(f\"⚠️ Ollama not running: {e}\")\n",
    "        return\n",
    "    \n",
    "    # Load CSV\n",
    "    try:\n",
    "        df = pd.read_csv(input_file, sep=';')\n",
    "        print(f\"Loaded {len(df)} records\")\n",
    "    except Exception:\n",
    "        try:\n",
    "            df = pd.read_csv(input_file, sep=None, engine='python')\n",
    "            print(f\"Loaded {len(df)} records with auto-detection\")\n",
    "        except Exception as e:\n",
    "            print(f\"⚠️ Failed to load CSV: {e}\")\n",
    "            return\n",
    "    \n",
    "    # Initialize columns\n",
    "    df['Score_A'] = None\n",
    "    df['Score_B'] = None\n",
    "    df['Winner'] = None\n",
    "    \n",
    "    def get_score(text):\n",
    "        \"\"\"Extract numeric score from response, ignoring thinking sections\"\"\"\n",
    "        # Remove thinking sections\n",
    "        while \"<think>\" in text and \"</think>\" in text:\n",
    "            think_start = text.find(\"<think>\")\n",
    "            think_end = text.find(\"</think>\", think_start) + len(\"</think>\")\n",
    "            if think_start >= 0 and think_end > 0:\n",
    "                text = text[:think_start] + text[think_end:]\n",
    "            else:\n",
    "                break\n",
    "        \n",
    "        # Alternative regex approach if the above doesn't work\n",
    "        text = re.sub(r'<think>.*?</think>', '', text, flags=re.DOTALL)\n",
    "        \n",
    "        # Clean up the remaining text\n",
    "        text = text.strip()\n",
    "        \n",
    "        # Look for the score (prioritize the last digit as the final answer)\n",
    "        if text:\n",
    "            # First check if the response ends with a digit\n",
    "            if text[-1] in \"12345\":\n",
    "                return int(text[-1])\n",
    "            \n",
    "            # Then check from the end backward\n",
    "            for i in range(len(text)-1, -1, -1):\n",
    "                if text[i] in \"12345\":\n",
    "                    return int(text[i])\n",
    "            \n",
    "            # Finally, check the whole text\n",
    "            for char in text:\n",
    "                if char in \"12345\":\n",
    "                    return int(char)\n",
    "        \n",
    "        return None\n",
    "    \n",
    "    def evaluate_single(original, translation, language, label):\n",
    "        prompt = f\"\"\"Evaluate this translation from {language} to English:\n",
    "\n",
    "Original ({language}): {original}\n",
    "Translation: {translation}\n",
    "\n",
    "Rate on a scale of 1-5 based on these criteria:\n",
    "1: VERY POOR - Completely incorrect or incomprehensible translation\n",
    "2: POOR - Major meaning errors or serious mistranslations\n",
    "3: FAIR - Conveys basic meaning but has notable accuracy or fluency issues\n",
    "4: GOOD - Mostly accurate with only minor issues in wording or naturalness\n",
    "5: EXCELLENT - Perfect translation that captures meaning, tone, and reads naturally\n",
    "\n",
    "IMPORTANT: Use the FULL RANGE of scores (1-5). Don't hesitate to give 1s for poor translations or 5s for excellent ones.\n",
    "\n",
    "Focus on: accuracy, preservation of tone, natural English expression, and completeness.\n",
    "\n",
    "Your response must be ONLY a single digit: 1, 2, 3, 4, or 5.\"\"\"\n",
    "\n",
    "        for attempt in range(max_retries + 1):\n",
    "            try:\n",
    "                response = requests.post(\n",
    "                    \"http://localhost:11434/api/generate\",\n",
    "                    json={\"model\": model, \"prompt\": prompt, \"stream\": False},\n",
    "                    timeout=timeout\n",
    "                )\n",
    "                \n",
    "                if response.status_code == 200:\n",
    "                    response_text = response.json().get('response', '').strip()\n",
    "                    score = get_score(response_text)\n",
    "                    \n",
    "                    if score:\n",
    "                        return score\n",
    "                    else:\n",
    "                        print(f\"⚠️ Couldn't extract score from: '{response_text[:30]}...'\")\n",
    "                \n",
    "                if attempt < max_retries:\n",
    "                    time.sleep(2)\n",
    "                    \n",
    "            except Exception as e:\n",
    "                print(f\"Error: {e}\")\n",
    "                if attempt < max_retries:\n",
    "                    time.sleep(2)\n",
    "                else:\n",
    "                    return \"ERROR\"\n",
    "                    \n",
    "        return \"ERROR\"\n",
    "    \n",
    "    # Process reviews\n",
    "    errors = 0\n",
    "    print(\"\\nEvaluating translations:\")\n",
    "    \n",
    "    for idx, row in tqdm(df.iterrows(), total=len(df), desc=\"Progress\"):\n",
    "        lang = row['language']\n",
    "        \n",
    "        # Get scores\n",
    "        score_a = evaluate_single(row['content'], row['Translation A'], lang, \"A\")\n",
    "        score_b = evaluate_single(row['content'], row['Translation B'], lang, \"B\")\n",
    "        \n",
    "        # Determine winner\n",
    "        if isinstance(score_a, int) and isinstance(score_b, int):\n",
    "            if score_a > score_b:\n",
    "                winner = \"A\"\n",
    "            elif score_b > score_a:\n",
    "                winner = \"B\"\n",
    "            else:\n",
    "                winner = \"Tie\"\n",
    "        else:\n",
    "            winner = \"Error\"\n",
    "            errors += 1\n",
    "            \n",
    "        # Store results\n",
    "        df.at[idx, 'Score_A'] = score_a\n",
    "        df.at[idx, 'Score_B'] = score_b\n",
    "        df.at[idx, 'Winner'] = winner\n",
    "        \n",
    "        # Show just last row result in one line\n",
    "        tqdm.write(f\"Row {idx+1}: {lang} - A({score_a}) vs B({score_b}) → {winner}\")\n",
    "        \n",
    "        # Save progress\n",
    "        df.to_csv(output_file, index=False, sep=';')\n",
    "    \n",
    "    # Summary statistics\n",
    "    print(\"\\n=== RESULTS ===\")\n",
    "    \n",
    "    valid_df = df[df['Winner'] != 'Error'].copy()\n",
    "    if len(valid_df) > 0:\n",
    "        # Convert scores to numeric for calculations\n",
    "        valid_df['Score_A'] = pd.to_numeric(valid_df['Score_A'], errors='coerce')\n",
    "        valid_df['Score_B'] = pd.to_numeric(valid_df['Score_B'], errors='coerce')\n",
    "        \n",
    "        # Overall statistics\n",
    "        a_wins = (valid_df['Winner'] == 'A').sum()\n",
    "        b_wins = (valid_df['Winner'] == 'B').sum()\n",
    "        ties = (valid_df['Winner'] == 'Tie').sum()\n",
    "        avg_score_a = valid_df['Score_A'].mean()\n",
    "        avg_score_b = valid_df['Score_B'].mean()\n",
    "        \n",
    "        print(f\"Overall (n={len(valid_df)}):\")\n",
    "        print(f\"- Win rate: A: {a_wins} ({a_wins/len(valid_df)*100:.1f}%), \" +\n",
    "              f\"B: {b_wins} ({b_wins/len(valid_df)*100:.1f}%), \" +\n",
    "              f\"Ties: {ties} ({ties/len(valid_df)*100:.1f}%)\")\n",
    "        print(f\"- Average scores: A: {avg_score_a:.2f}, B: {avg_score_b:.2f}, Difference: {avg_score_a-avg_score_b:.2f}\")\n",
    "        \n",
    "        # Results by language\n",
    "        print(\"\\nBy language:\")\n",
    "        for lang in df['language'].unique():\n",
    "            lang_df = valid_df[valid_df['language'] == lang]\n",
    "            if len(lang_df) > 0:\n",
    "                a_lang = (lang_df['Winner'] == 'A').sum()\n",
    "                b_lang = (lang_df['Winner'] == 'B').sum()\n",
    "                t_lang = (lang_df['Winner'] == 'Tie').sum()\n",
    "                \n",
    "                lang_avg_a = lang_df['Score_A'].mean()\n",
    "                lang_avg_b = lang_df['Score_B'].mean()\n",
    "                \n",
    "                print(f\"{lang} (n={len(lang_df)}):\")\n",
    "                print(f\"- Win rate: A: {a_lang} ({a_lang/len(lang_df)*100:.1f}%), \" +\n",
    "                      f\"B: {b_lang} ({b_lang/len(lang_df)*100:.1f}%), \" +\n",
    "                      f\"Ties: {t_lang} ({t_lang/len(lang_df)*100:.1f}%)\")\n",
    "                print(f\"- Average scores: A: {lang_avg_a:.2f}, B: {lang_avg_b:.2f}, Diff: {lang_avg_a-lang_avg_b:.2f}\")\n",
    "    \n",
    "    print(f\"\\nComplete! Results saved to {output_file}\")\n",
    "    return df\n",
    "\n",
    "if __name__ == \"__main__\":\n",
    "    evaluate_translations(\n",
    "        input_file=\"bmw_app_analysis/translations/bmw_reviews_sampledHE.csv\",\n",
    "        output_file=\"bmw_app_analysis/translations/bmw_reviews_evaluated_1to5.csv\",\n",
    "        model=\"qwen3:14b\"\n",
    "    )"
   ]
  }
 ],
 "metadata": {
  "kernelspec": {
   "display_name": "SentiNext",
   "language": "python",
   "name": "python3"
  },
  "language_info": {
   "codemirror_mode": {
    "name": "ipython",
    "version": 3
   },
   "file_extension": ".py",
   "mimetype": "text/x-python",
   "name": "python",
   "nbconvert_exporter": "python",
   "pygments_lexer": "ipython3",
   "version": "3.12.6"
  }
 },
 "nbformat": 4,
 "nbformat_minor": 2
}
